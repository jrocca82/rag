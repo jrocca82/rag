{
 "cells": [
  {
   "cell_type": "code",
   "execution_count": 13,
   "id": "ab817720",
   "metadata": {},
   "outputs": [],
   "source": [
    "import numpy as np\n",
    "import faiss\n",
    "from openai import OpenAI\n",
    "from dotenv import load_dotenv"
   ]
  },
  {
   "cell_type": "code",
   "execution_count": 14,
   "id": "b3067a5f",
   "metadata": {},
   "outputs": [
    {
     "data": {
      "text/plain": [
       "True"
      ]
     },
     "execution_count": 14,
     "metadata": {},
     "output_type": "execute_result"
    }
   ],
   "source": [
    "load_dotenv()"
   ]
  },
  {
   "cell_type": "code",
   "execution_count": 15,
   "id": "02291cac",
   "metadata": {},
   "outputs": [],
   "source": [
    "client = OpenAI()"
   ]
  },
  {
   "cell_type": "code",
   "execution_count": 16,
   "id": "b0677de7",
   "metadata": {},
   "outputs": [],
   "source": [
    "# Represents a user's previous reviews of other books\n",
    "reviews = [\n",
    "    \"I hate stories about backpacking. It's boring.\",\n",
    "    \"Beautifully descriptive but predictable plot.\",\n",
    "    \"Compelling dystopia but overwhelmingly bleak.\",\n",
    "    \"Timeless romance with sharp social commentary.\",\n",
    "    \"Loved the fast-paced mystery — couldn't put it down!\",\n",
    "    \"Too much exposition and not enough action.\",\n",
    "    \"Hilarious satire with surprisingly emotional depth.\",\n",
    "    \"Characters felt flat despite an intriguing premise.\",\n",
    "    \"Incredible world-building, but the pacing dragged.\",\n",
    "    \"Poetic writing style, but the story lacked substance.\",\n",
    "    \"Heartwarming coming-of-age tale with relatable struggles.\",\n",
    "    \"A dense philosophical read — rewarding, but slow.\",\n",
    "    \"Surprisingly moving memoir — raw and honest.\",\n",
    "    \"Fascinating premise but the ending felt rushed.\",\n",
    "    \"Gritty noir thriller with sharp dialogue and tension.\"\n",
    "]\n"
   ]
  },
  {
   "cell_type": "code",
   "execution_count": 17,
   "id": "01737e37",
   "metadata": {},
   "outputs": [],
   "source": [
    "\n",
    "def get_embedding(text):\n",
    "\ttext = text.replace(\"/n\", \" \")\n",
    "\treturn client.embeddings.create(\n",
    "\t\tinput = [text],\n",
    "\t\tmodel=\"text-embedding-3-small\",\n",
    "\t).data[0].embedding\n"
   ]
  },
  {
   "cell_type": "code",
   "execution_count": 18,
   "id": "f460ccd5",
   "metadata": {},
   "outputs": [],
   "source": [
    "\n",
    "def index_reviews(reviews):\n",
    "\t# Get embeddings for reviews\n",
    "\tvectors = []\n",
    "\tfor review in reviews:\n",
    "\t\tvectors.append(get_embedding(review))\n",
    "\t\t\n",
    "\t# Create index\n",
    "\td = len(vectors[0]) # dimension of vector\n",
    "\tindex = faiss.IndexFlatL2(d)\n",
    "\t\n",
    "\t# Reshape vectors into 2D array then add to index\n",
    "\tvectors = np.array(vectors).reshape(len(vectors), -1)\n",
    "\tindex.add(vectors)\n",
    "\n",
    "\treturn index"
   ]
  },
  {
   "cell_type": "code",
   "execution_count": 19,
   "id": "c42d2d79",
   "metadata": {},
   "outputs": [],
   "source": [
    "\n",
    "def retrieve_reviews(index, query, reviews, k=2):\n",
    "\t# Get embedding for query\n",
    "\tquery_vector = get_embedding(query)\n",
    "\n",
    "\t# Reshape vector into 2D array, then search index\n",
    "\tquery_vector = np.array(query_vector).reshape(1, -1)\n",
    "\tdistances, indices = index.search(query_vector, k)\n",
    "\n",
    "\treturn [reviews[i] for i in indices[0]]"
   ]
  },
  {
   "cell_type": "code",
   "execution_count": 21,
   "id": "57affb80",
   "metadata": {},
   "outputs": [
    {
     "name": "stdout",
     "output_type": "stream",
     "text": [
      "[\"I hate stories about backpacking. It's boring.\", 'Compelling dystopia but overwhelmingly bleak.']\n"
     ]
    }
   ],
   "source": [
    "index = index_reviews(reviews)\n",
    "book = \"The Beach by Alex Garland critiques backpacker culture, showcasing the selfishness and moral decay behind their pursuit of an untouchable dream.\"\n",
    "related_reviews = retrieve_reviews(index, book, reviews)\n",
    "\n",
    "print(related_reviews)"
   ]
  },
  {
   "cell_type": "code",
   "execution_count": 23,
   "id": "2fe1c51b",
   "metadata": {},
   "outputs": [],
   "source": [
    "def predict_rating(book, related_reviews):\n",
    "    reviews_text = \"\\n\".join(related_reviews)\n",
    "\n",
    "    prompt = (\n",
    "        \"Here is a book I might want to read:\\n\" + book + \"\\n\\n\"\n",
    "        \"Here are relevant reviews from the past:\\n\" + reviews_text + \"\\n\\n\"\n",
    "        \"On a scale of 1 (worst) to 10 (best), \"\n",
    "        \"how likely am I to enjoy this book? \"\n",
    "        \"Reply with no explanation, just a number.\"\n",
    "    )\n",
    "\n",
    "    response = client.chat.completions.create(\n",
    "        model=\"gpt-4o-mini\",\n",
    "        messages=[{\n",
    "            \"role\": \"user\",\n",
    "            \"content\": prompt  # <-- no quotes around variable name!\n",
    "        }],\n",
    "        max_tokens=2000,\n",
    "        temperature=0.7\n",
    "    )\n",
    "\n",
    "    return response.choices[0].message.content\n"
   ]
  },
  {
   "cell_type": "code",
   "execution_count": 24,
   "id": "92cd14b4",
   "metadata": {},
   "outputs": [
    {
     "data": {
      "text/plain": [
       "'6'"
      ]
     },
     "execution_count": 24,
     "metadata": {},
     "output_type": "execute_result"
    }
   ],
   "source": [
    "predict_rating(book, related_reviews)"
   ]
  },
  {
   "cell_type": "code",
   "execution_count": null,
   "id": "25ed91b9",
   "metadata": {},
   "outputs": [],
   "source": []
  }
 ],
 "metadata": {
  "kernelspec": {
   "display_name": ".venv",
   "language": "python",
   "name": "python3"
  },
  "language_info": {
   "codemirror_mode": {
    "name": "ipython",
    "version": 3
   },
   "file_extension": ".py",
   "mimetype": "text/x-python",
   "name": "python",
   "nbconvert_exporter": "python",
   "pygments_lexer": "ipython3",
   "version": "3.10.16"
  }
 },
 "nbformat": 4,
 "nbformat_minor": 5
}
